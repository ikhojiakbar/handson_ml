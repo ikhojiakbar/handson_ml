{
 "cells": [
  {
   "cell_type": "markdown",
   "id": "ff8efdbd",
   "metadata": {},
   "source": [
    "# 1. Look at the Big Picture"
   ]
  },
  {
   "cell_type": "markdown",
   "id": "3717e34e",
   "metadata": {},
   "source": [
    "## 1.1 Frame the Problem"
   ]
  },
  {
   "cell_type": "markdown",
   "id": "16a60032",
   "metadata": {},
   "source": [
    "* What is the business objective? => Clarify median house price based on pop, medidan income\n",
    "* Is it supervised/unsupervised problem?\n",
    "* Is it classification/regression problem?\n",
    "* Is it batch/online learning task?"
   ]
  },
  {
   "cell_type": "markdown",
   "id": "728032b3",
   "metadata": {},
   "source": [
    "## 1.2 Select a Performance Measure"
   ]
  },
  {
   "cell_type": "markdown",
   "id": "65e434b8",
   "metadata": {},
   "source": [
    "* For `supervised regression` task, the performance measure are:\n",
    "* * RMSE\n",
    "* * MSE (for normal distributed)\n",
    "* * MAE (for outliers)"
   ]
  },
  {
   "cell_type": "markdown",
   "id": "41a67128",
   "metadata": {},
   "source": [
    "## 1.3 Check the Assumptions"
   ]
  },
  {
   "cell_type": "markdown",
   "id": "6c6c0d69",
   "metadata": {},
   "source": [
    "* Perhaps, this is a classification task to distinct cheap, medium, and expensive house prices\n",
    "* Recheck the business objective"
   ]
  },
  {
   "cell_type": "markdown",
   "id": "25cb4482",
   "metadata": {},
   "source": [
    "# 2. Get the Data"
   ]
  },
  {
   "cell_type": "markdown",
   "id": "808ea77d",
   "metadata": {},
   "source": [
    "## 2.1 Create the Workspace"
   ]
  },
  {
   "cell_type": "markdown",
   "id": "43296f0f",
   "metadata": {},
   "source": [
    "* Check all the installation requirements for your project\n",
    "* Import the dependencies you will work with"
   ]
  },
  {
   "cell_type": "markdown",
   "id": "ff3920d7",
   "metadata": {},
   "source": [
    "## 2.2 Download the Data"
   ]
  },
  {
   "cell_type": "markdown",
   "id": "3e35f5e6",
   "metadata": {},
   "source": [
    "* Don't write a script to download targz/tgz file. Just do in your own\n",
    "* You can load tar file extension in csv format directly withou any fetching"
   ]
  },
  {
   "cell_type": "code",
   "execution_count": 1,
   "id": "55fdd68e",
   "metadata": {},
   "outputs": [],
   "source": [
    "import numpy as np\n",
    "import pandas as pd"
   ]
  },
  {
   "cell_type": "code",
   "execution_count": 2,
   "id": "6a29e1f8",
   "metadata": {},
   "outputs": [],
   "source": [
    "data = pd.read_csv('housing_data.tar')"
   ]
  },
  {
   "cell_type": "markdown",
   "id": "69750e15",
   "metadata": {},
   "source": [
    "## 2.3 Take a Quick Look at the Data Structure"
   ]
  },
  {
   "cell_type": "code",
   "execution_count": 3,
   "id": "860547af",
   "metadata": {},
   "outputs": [
    {
     "data": {
      "text/html": [
       "<div>\n",
       "<style scoped>\n",
       "    .dataframe tbody tr th:only-of-type {\n",
       "        vertical-align: middle;\n",
       "    }\n",
       "\n",
       "    .dataframe tbody tr th {\n",
       "        vertical-align: top;\n",
       "    }\n",
       "\n",
       "    .dataframe thead th {\n",
       "        text-align: right;\n",
       "    }\n",
       "</style>\n",
       "<table border=\"1\" class=\"dataframe\">\n",
       "  <thead>\n",
       "    <tr style=\"text-align: right;\">\n",
       "      <th></th>\n",
       "      <th>housing.csv</th>\n",
       "      <th>latitude</th>\n",
       "      <th>housing_median_age</th>\n",
       "      <th>total_rooms</th>\n",
       "      <th>total_bedrooms</th>\n",
       "      <th>population</th>\n",
       "      <th>households</th>\n",
       "      <th>median_income</th>\n",
       "      <th>median_house_value</th>\n",
       "      <th>ocean_proximity</th>\n",
       "    </tr>\n",
       "  </thead>\n",
       "  <tbody>\n",
       "    <tr>\n",
       "      <th>0</th>\n",
       "      <td>-122.23</td>\n",
       "      <td>37.88</td>\n",
       "      <td>41.0</td>\n",
       "      <td>880.0</td>\n",
       "      <td>129.0</td>\n",
       "      <td>322.0</td>\n",
       "      <td>126.0</td>\n",
       "      <td>8.3252</td>\n",
       "      <td>452600.0</td>\n",
       "      <td>NEAR BAY</td>\n",
       "    </tr>\n",
       "    <tr>\n",
       "      <th>1</th>\n",
       "      <td>-122.22</td>\n",
       "      <td>37.86</td>\n",
       "      <td>21.0</td>\n",
       "      <td>7099.0</td>\n",
       "      <td>1106.0</td>\n",
       "      <td>2401.0</td>\n",
       "      <td>1138.0</td>\n",
       "      <td>8.3014</td>\n",
       "      <td>358500.0</td>\n",
       "      <td>NEAR BAY</td>\n",
       "    </tr>\n",
       "    <tr>\n",
       "      <th>2</th>\n",
       "      <td>-122.24</td>\n",
       "      <td>37.85</td>\n",
       "      <td>52.0</td>\n",
       "      <td>1467.0</td>\n",
       "      <td>190.0</td>\n",
       "      <td>496.0</td>\n",
       "      <td>177.0</td>\n",
       "      <td>7.2574</td>\n",
       "      <td>352100.0</td>\n",
       "      <td>NEAR BAY</td>\n",
       "    </tr>\n",
       "    <tr>\n",
       "      <th>3</th>\n",
       "      <td>-122.25</td>\n",
       "      <td>37.85</td>\n",
       "      <td>52.0</td>\n",
       "      <td>1274.0</td>\n",
       "      <td>235.0</td>\n",
       "      <td>558.0</td>\n",
       "      <td>219.0</td>\n",
       "      <td>5.6431</td>\n",
       "      <td>341300.0</td>\n",
       "      <td>NEAR BAY</td>\n",
       "    </tr>\n",
       "    <tr>\n",
       "      <th>4</th>\n",
       "      <td>-122.25</td>\n",
       "      <td>37.85</td>\n",
       "      <td>52.0</td>\n",
       "      <td>1627.0</td>\n",
       "      <td>280.0</td>\n",
       "      <td>565.0</td>\n",
       "      <td>259.0</td>\n",
       "      <td>3.8462</td>\n",
       "      <td>342200.0</td>\n",
       "      <td>NEAR BAY</td>\n",
       "    </tr>\n",
       "  </tbody>\n",
       "</table>\n",
       "</div>"
      ],
      "text/plain": [
       "   housing.csv  latitude  housing_median_age  total_rooms  total_bedrooms  \\\n",
       "0      -122.23     37.88                41.0        880.0           129.0   \n",
       "1      -122.22     37.86                21.0       7099.0          1106.0   \n",
       "2      -122.24     37.85                52.0       1467.0           190.0   \n",
       "3      -122.25     37.85                52.0       1274.0           235.0   \n",
       "4      -122.25     37.85                52.0       1627.0           280.0   \n",
       "\n",
       "   population  households  median_income  median_house_value ocean_proximity  \n",
       "0       322.0       126.0         8.3252            452600.0        NEAR BAY  \n",
       "1      2401.0      1138.0         8.3014            358500.0        NEAR BAY  \n",
       "2       496.0       177.0         7.2574            352100.0        NEAR BAY  \n",
       "3       558.0       219.0         5.6431            341300.0        NEAR BAY  \n",
       "4       565.0       259.0         3.8462            342200.0        NEAR BAY  "
      ]
     },
     "execution_count": 3,
     "metadata": {},
     "output_type": "execute_result"
    }
   ],
   "source": [
    "data.head()"
   ]
  },
  {
   "cell_type": "code",
   "execution_count": 4,
   "id": "b26e587c",
   "metadata": {},
   "outputs": [
    {
     "data": {
      "text/html": [
       "<div>\n",
       "<style scoped>\n",
       "    .dataframe tbody tr th:only-of-type {\n",
       "        vertical-align: middle;\n",
       "    }\n",
       "\n",
       "    .dataframe tbody tr th {\n",
       "        vertical-align: top;\n",
       "    }\n",
       "\n",
       "    .dataframe thead th {\n",
       "        text-align: right;\n",
       "    }\n",
       "</style>\n",
       "<table border=\"1\" class=\"dataframe\">\n",
       "  <thead>\n",
       "    <tr style=\"text-align: right;\">\n",
       "      <th></th>\n",
       "      <th>longitude</th>\n",
       "      <th>latitude</th>\n",
       "      <th>housing_median_age</th>\n",
       "      <th>total_rooms</th>\n",
       "      <th>total_bedrooms</th>\n",
       "      <th>population</th>\n",
       "      <th>households</th>\n",
       "      <th>median_income</th>\n",
       "      <th>median_house_value</th>\n",
       "      <th>ocean_proximity</th>\n",
       "    </tr>\n",
       "  </thead>\n",
       "  <tbody>\n",
       "    <tr>\n",
       "      <th>0</th>\n",
       "      <td>-122.23</td>\n",
       "      <td>37.88</td>\n",
       "      <td>41.0</td>\n",
       "      <td>880.0</td>\n",
       "      <td>129.0</td>\n",
       "      <td>322.0</td>\n",
       "      <td>126.0</td>\n",
       "      <td>8.3252</td>\n",
       "      <td>452600.0</td>\n",
       "      <td>NEAR BAY</td>\n",
       "    </tr>\n",
       "    <tr>\n",
       "      <th>1</th>\n",
       "      <td>-122.22</td>\n",
       "      <td>37.86</td>\n",
       "      <td>21.0</td>\n",
       "      <td>7099.0</td>\n",
       "      <td>1106.0</td>\n",
       "      <td>2401.0</td>\n",
       "      <td>1138.0</td>\n",
       "      <td>8.3014</td>\n",
       "      <td>358500.0</td>\n",
       "      <td>NEAR BAY</td>\n",
       "    </tr>\n",
       "    <tr>\n",
       "      <th>2</th>\n",
       "      <td>-122.24</td>\n",
       "      <td>37.85</td>\n",
       "      <td>52.0</td>\n",
       "      <td>1467.0</td>\n",
       "      <td>190.0</td>\n",
       "      <td>496.0</td>\n",
       "      <td>177.0</td>\n",
       "      <td>7.2574</td>\n",
       "      <td>352100.0</td>\n",
       "      <td>NEAR BAY</td>\n",
       "    </tr>\n",
       "    <tr>\n",
       "      <th>3</th>\n",
       "      <td>-122.25</td>\n",
       "      <td>37.85</td>\n",
       "      <td>52.0</td>\n",
       "      <td>1274.0</td>\n",
       "      <td>235.0</td>\n",
       "      <td>558.0</td>\n",
       "      <td>219.0</td>\n",
       "      <td>5.6431</td>\n",
       "      <td>341300.0</td>\n",
       "      <td>NEAR BAY</td>\n",
       "    </tr>\n",
       "    <tr>\n",
       "      <th>4</th>\n",
       "      <td>-122.25</td>\n",
       "      <td>37.85</td>\n",
       "      <td>52.0</td>\n",
       "      <td>1627.0</td>\n",
       "      <td>280.0</td>\n",
       "      <td>565.0</td>\n",
       "      <td>259.0</td>\n",
       "      <td>3.8462</td>\n",
       "      <td>342200.0</td>\n",
       "      <td>NEAR BAY</td>\n",
       "    </tr>\n",
       "  </tbody>\n",
       "</table>\n",
       "</div>"
      ],
      "text/plain": [
       "   longitude  latitude  housing_median_age  total_rooms  total_bedrooms  \\\n",
       "0    -122.23     37.88                41.0        880.0           129.0   \n",
       "1    -122.22     37.86                21.0       7099.0          1106.0   \n",
       "2    -122.24     37.85                52.0       1467.0           190.0   \n",
       "3    -122.25     37.85                52.0       1274.0           235.0   \n",
       "4    -122.25     37.85                52.0       1627.0           280.0   \n",
       "\n",
       "   population  households  median_income  median_house_value ocean_proximity  \n",
       "0       322.0       126.0         8.3252            452600.0        NEAR BAY  \n",
       "1      2401.0      1138.0         8.3014            358500.0        NEAR BAY  \n",
       "2       496.0       177.0         7.2574            352100.0        NEAR BAY  \n",
       "3       558.0       219.0         5.6431            341300.0        NEAR BAY  \n",
       "4       565.0       259.0         3.8462            342200.0        NEAR BAY  "
      ]
     },
     "execution_count": 4,
     "metadata": {},
     "output_type": "execute_result"
    }
   ],
   "source": [
    "#download error by me\n",
    "\n",
    "data.rename(columns={'housing.csv': 'longitude'}, inplace=True)\n",
    "data.head()"
   ]
  },
  {
   "cell_type": "code",
   "execution_count": 5,
   "id": "4490b2c8",
   "metadata": {},
   "outputs": [
    {
     "name": "stdout",
     "output_type": "stream",
     "text": [
      "<class 'pandas.core.frame.DataFrame'>\n",
      "RangeIndex: 20641 entries, 0 to 20640\n",
      "Data columns (total 10 columns):\n",
      " #   Column              Non-Null Count  Dtype  \n",
      "---  ------              --------------  -----  \n",
      " 0   longitude           20640 non-null  float64\n",
      " 1   latitude            20640 non-null  float64\n",
      " 2   housing_median_age  20640 non-null  float64\n",
      " 3   total_rooms         20640 non-null  float64\n",
      " 4   total_bedrooms      20433 non-null  float64\n",
      " 5   population          20640 non-null  float64\n",
      " 6   households          20640 non-null  float64\n",
      " 7   median_income       20640 non-null  float64\n",
      " 8   median_house_value  20640 non-null  float64\n",
      " 9   ocean_proximity     20640 non-null  object \n",
      "dtypes: float64(9), object(1)\n",
      "memory usage: 1.6+ MB\n"
     ]
    }
   ],
   "source": [
    "data.info()"
   ]
  },
  {
   "cell_type": "code",
   "execution_count": 6,
   "id": "62b8b172",
   "metadata": {},
   "outputs": [
    {
     "data": {
      "text/plain": [
       "<1H OCEAN     9136\n",
       "INLAND        6551\n",
       "NEAR OCEAN    2658\n",
       "NEAR BAY      2290\n",
       "ISLAND           5\n",
       "Name: ocean_proximity, dtype: int64"
      ]
     },
     "execution_count": 6,
     "metadata": {},
     "output_type": "execute_result"
    }
   ],
   "source": [
    "#categorical column\n",
    "data['ocean_proximity'].value_counts()"
   ]
  },
  {
   "cell_type": "code",
   "execution_count": 7,
   "id": "6639a909",
   "metadata": {},
   "outputs": [
    {
     "data": {
      "text/html": [
       "<div>\n",
       "<style scoped>\n",
       "    .dataframe tbody tr th:only-of-type {\n",
       "        vertical-align: middle;\n",
       "    }\n",
       "\n",
       "    .dataframe tbody tr th {\n",
       "        vertical-align: top;\n",
       "    }\n",
       "\n",
       "    .dataframe thead th {\n",
       "        text-align: right;\n",
       "    }\n",
       "</style>\n",
       "<table border=\"1\" class=\"dataframe\">\n",
       "  <thead>\n",
       "    <tr style=\"text-align: right;\">\n",
       "      <th></th>\n",
       "      <th>longitude</th>\n",
       "      <th>latitude</th>\n",
       "      <th>housing_median_age</th>\n",
       "      <th>total_rooms</th>\n",
       "      <th>total_bedrooms</th>\n",
       "      <th>population</th>\n",
       "      <th>households</th>\n",
       "      <th>median_income</th>\n",
       "      <th>median_house_value</th>\n",
       "    </tr>\n",
       "  </thead>\n",
       "  <tbody>\n",
       "    <tr>\n",
       "      <th>count</th>\n",
       "      <td>20640.000000</td>\n",
       "      <td>20640.000000</td>\n",
       "      <td>20640.000000</td>\n",
       "      <td>20640.000000</td>\n",
       "      <td>20433.000000</td>\n",
       "      <td>20640.000000</td>\n",
       "      <td>20640.000000</td>\n",
       "      <td>20640.000000</td>\n",
       "      <td>20640.000000</td>\n",
       "    </tr>\n",
       "    <tr>\n",
       "      <th>mean</th>\n",
       "      <td>-119.569704</td>\n",
       "      <td>35.631861</td>\n",
       "      <td>28.639486</td>\n",
       "      <td>2635.763081</td>\n",
       "      <td>537.870553</td>\n",
       "      <td>1425.476744</td>\n",
       "      <td>499.539680</td>\n",
       "      <td>3.870671</td>\n",
       "      <td>206855.816909</td>\n",
       "    </tr>\n",
       "    <tr>\n",
       "      <th>std</th>\n",
       "      <td>2.003532</td>\n",
       "      <td>2.135952</td>\n",
       "      <td>12.585558</td>\n",
       "      <td>2181.615252</td>\n",
       "      <td>421.385070</td>\n",
       "      <td>1132.462122</td>\n",
       "      <td>382.329753</td>\n",
       "      <td>1.899822</td>\n",
       "      <td>115395.615874</td>\n",
       "    </tr>\n",
       "    <tr>\n",
       "      <th>min</th>\n",
       "      <td>-124.350000</td>\n",
       "      <td>32.540000</td>\n",
       "      <td>1.000000</td>\n",
       "      <td>2.000000</td>\n",
       "      <td>1.000000</td>\n",
       "      <td>3.000000</td>\n",
       "      <td>1.000000</td>\n",
       "      <td>0.499900</td>\n",
       "      <td>14999.000000</td>\n",
       "    </tr>\n",
       "    <tr>\n",
       "      <th>25%</th>\n",
       "      <td>-121.800000</td>\n",
       "      <td>33.930000</td>\n",
       "      <td>18.000000</td>\n",
       "      <td>1447.750000</td>\n",
       "      <td>296.000000</td>\n",
       "      <td>787.000000</td>\n",
       "      <td>280.000000</td>\n",
       "      <td>2.563400</td>\n",
       "      <td>119600.000000</td>\n",
       "    </tr>\n",
       "    <tr>\n",
       "      <th>50%</th>\n",
       "      <td>-118.490000</td>\n",
       "      <td>34.260000</td>\n",
       "      <td>29.000000</td>\n",
       "      <td>2127.000000</td>\n",
       "      <td>435.000000</td>\n",
       "      <td>1166.000000</td>\n",
       "      <td>409.000000</td>\n",
       "      <td>3.534800</td>\n",
       "      <td>179700.000000</td>\n",
       "    </tr>\n",
       "    <tr>\n",
       "      <th>75%</th>\n",
       "      <td>-118.010000</td>\n",
       "      <td>37.710000</td>\n",
       "      <td>37.000000</td>\n",
       "      <td>3148.000000</td>\n",
       "      <td>647.000000</td>\n",
       "      <td>1725.000000</td>\n",
       "      <td>605.000000</td>\n",
       "      <td>4.743250</td>\n",
       "      <td>264725.000000</td>\n",
       "    </tr>\n",
       "    <tr>\n",
       "      <th>max</th>\n",
       "      <td>-114.310000</td>\n",
       "      <td>41.950000</td>\n",
       "      <td>52.000000</td>\n",
       "      <td>39320.000000</td>\n",
       "      <td>6445.000000</td>\n",
       "      <td>35682.000000</td>\n",
       "      <td>6082.000000</td>\n",
       "      <td>15.000100</td>\n",
       "      <td>500001.000000</td>\n",
       "    </tr>\n",
       "  </tbody>\n",
       "</table>\n",
       "</div>"
      ],
      "text/plain": [
       "          longitude      latitude  housing_median_age   total_rooms  \\\n",
       "count  20640.000000  20640.000000        20640.000000  20640.000000   \n",
       "mean    -119.569704     35.631861           28.639486   2635.763081   \n",
       "std        2.003532      2.135952           12.585558   2181.615252   \n",
       "min     -124.350000     32.540000            1.000000      2.000000   \n",
       "25%     -121.800000     33.930000           18.000000   1447.750000   \n",
       "50%     -118.490000     34.260000           29.000000   2127.000000   \n",
       "75%     -118.010000     37.710000           37.000000   3148.000000   \n",
       "max     -114.310000     41.950000           52.000000  39320.000000   \n",
       "\n",
       "       total_bedrooms    population    households  median_income  \\\n",
       "count    20433.000000  20640.000000  20640.000000   20640.000000   \n",
       "mean       537.870553   1425.476744    499.539680       3.870671   \n",
       "std        421.385070   1132.462122    382.329753       1.899822   \n",
       "min          1.000000      3.000000      1.000000       0.499900   \n",
       "25%        296.000000    787.000000    280.000000       2.563400   \n",
       "50%        435.000000   1166.000000    409.000000       3.534800   \n",
       "75%        647.000000   1725.000000    605.000000       4.743250   \n",
       "max       6445.000000  35682.000000   6082.000000      15.000100   \n",
       "\n",
       "       median_house_value  \n",
       "count        20640.000000  \n",
       "mean        206855.816909  \n",
       "std         115395.615874  \n",
       "min          14999.000000  \n",
       "25%         119600.000000  \n",
       "50%         179700.000000  \n",
       "75%         264725.000000  \n",
       "max         500001.000000  "
      ]
     },
     "execution_count": 7,
     "metadata": {},
     "output_type": "execute_result"
    }
   ],
   "source": [
    "#numerical column\n",
    "data.describe()"
   ]
  },
  {
   "cell_type": "code",
   "execution_count": 8,
   "id": "a6bf1ed4",
   "metadata": {},
   "outputs": [
    {
     "data": {
      "image/png": "[encoded data removed]",
      "text/plain": [
       "<Figure size 1440x1080 with 9 Axes>"
      ]
     },
     "metadata": {
      "needs_background": "light"
     },
     "output_type": "display_data"
    }
   ],
   "source": [
    "%matplotlib inline\n",
    "import matplotlib.pyplot as plt\n",
    "data.hist(bins=50, figsize=(20, 15))\n",
    "plt.show()"
   ]
  },
  {
   "cell_type": "markdown",
   "id": "8df2d0a9",
   "metadata": {},
   "source": [
    "## 2.4 Create a Test Set"
   ]
  },
  {
   "cell_type": "code",
   "execution_count": 9,
   "id": "ce63dd3b",
   "metadata": {},
   "outputs": [],
   "source": [
    "def split_train_test(data, test_ratio):\n",
    "    shuffled_indicies = np.random.permutation(len(data))\n",
    "    test_set_size = int(len(data) * test_ratio)\n",
    "    \n",
    "    test_indices = shuffled_indices[:test_set_size]\n",
    "    train_indices = shuffled_indices[test_set_size:]\n",
    "    return data.iloc[train_indices], data.iloc[test_indices]"
   ]
  },
  {
   "cell_type": "code",
   "execution_count": 10,
   "id": "6b0ef594",
   "metadata": {},
   "outputs": [],
   "source": [
    "#alternatively\n",
    "from sklearn.model_selection import train_test_split\n",
    "\n",
    "#random sampling but we need 'staratified' sampling data without bias for test_set\n",
    "train_set, test_set = train_test_split(data, test_size=0.2, random_state=21)"
   ]
  },
  {
   "cell_type": "markdown",
   "id": "21000386",
   "metadata": {},
   "source": [
    "### 2.4.1 Stratified sampling\n",
    "* Based on discretized medain income\n",
    "* median income is the key feature for house prediction"
   ]
  },
  {
   "cell_type": "code",
   "execution_count": 11,
   "id": "02a7b4d7",
   "metadata": {},
   "outputs": [],
   "source": [
    "#discretizing median_income\n",
    "data['income_cat'] = pd.cut(data['median_income'],\n",
    "                            bins=[0., 1.5, 3., 4.5, 6., np.inf],\n",
    "                            labels=[1, 2, 3, 4, 5])"
   ]
  },
  {
   "cell_type": "code",
   "execution_count": 12,
   "id": "33fdb5bc",
   "metadata": {
    "scrolled": true
   },
   "outputs": [
    {
     "data": {
      "text/plain": [
       "<AxesSubplot:>"
      ]
     },
     "execution_count": 12,
     "metadata": {},
     "output_type": "execute_result"
    },
    {
     "data": {
      "image/png": "[encoded data removed]",
      "text/plain": [
       "<Figure size 432x288 with 1 Axes>"
      ]
     },
     "metadata": {
      "needs_background": "light"
     },
     "output_type": "display_data"
    }
   ],
   "source": [
    "data['income_cat'].hist()"
   ]
  },
  {
   "cell_type": "code",
   "execution_count": 13,
   "id": "4245e294",
   "metadata": {},
   "outputs": [],
   "source": [
    "data.drop('income_cat', axis=1, inplace=True)"
   ]
  },
  {
   "cell_type": "code",
   "execution_count": 14,
   "id": "3dccbe3a",
   "metadata": {},
   "outputs": [
    {
     "data": {
      "text/html": [
       "<div>\n",
       "<style scoped>\n",
       "    .dataframe tbody tr th:only-of-type {\n",
       "        vertical-align: middle;\n",
       "    }\n",
       "\n",
       "    .dataframe tbody tr th {\n",
       "        vertical-align: top;\n",
       "    }\n",
       "\n",
       "    .dataframe thead th {\n",
       "        text-align: right;\n",
       "    }\n",
       "</style>\n",
       "<table border=\"1\" class=\"dataframe\">\n",
       "  <thead>\n",
       "    <tr style=\"text-align: right;\">\n",
       "      <th></th>\n",
       "      <th>longitude</th>\n",
       "      <th>latitude</th>\n",
       "      <th>housing_median_age</th>\n",
       "      <th>total_rooms</th>\n",
       "      <th>total_bedrooms</th>\n",
       "      <th>population</th>\n",
       "      <th>households</th>\n",
       "      <th>median_income</th>\n",
       "      <th>median_house_value</th>\n",
       "      <th>ocean_proximity</th>\n",
       "    </tr>\n",
       "  </thead>\n",
       "  <tbody>\n",
       "    <tr>\n",
       "      <th>0</th>\n",
       "      <td>-122.23</td>\n",
       "      <td>37.88</td>\n",
       "      <td>41.0</td>\n",
       "      <td>880.0</td>\n",
       "      <td>129.0</td>\n",
       "      <td>322.0</td>\n",
       "      <td>126.0</td>\n",
       "      <td>8.3252</td>\n",
       "      <td>452600.0</td>\n",
       "      <td>NEAR BAY</td>\n",
       "    </tr>\n",
       "    <tr>\n",
       "      <th>1</th>\n",
       "      <td>-122.22</td>\n",
       "      <td>37.86</td>\n",
       "      <td>21.0</td>\n",
       "      <td>7099.0</td>\n",
       "      <td>1106.0</td>\n",
       "      <td>2401.0</td>\n",
       "      <td>1138.0</td>\n",
       "      <td>8.3014</td>\n",
       "      <td>358500.0</td>\n",
       "      <td>NEAR BAY</td>\n",
       "    </tr>\n",
       "    <tr>\n",
       "      <th>2</th>\n",
       "      <td>-122.24</td>\n",
       "      <td>37.85</td>\n",
       "      <td>52.0</td>\n",
       "      <td>1467.0</td>\n",
       "      <td>190.0</td>\n",
       "      <td>496.0</td>\n",
       "      <td>177.0</td>\n",
       "      <td>7.2574</td>\n",
       "      <td>352100.0</td>\n",
       "      <td>NEAR BAY</td>\n",
       "    </tr>\n",
       "    <tr>\n",
       "      <th>3</th>\n",
       "      <td>-122.25</td>\n",
       "      <td>37.85</td>\n",
       "      <td>52.0</td>\n",
       "      <td>1274.0</td>\n",
       "      <td>235.0</td>\n",
       "      <td>558.0</td>\n",
       "      <td>219.0</td>\n",
       "      <td>5.6431</td>\n",
       "      <td>341300.0</td>\n",
       "      <td>NEAR BAY</td>\n",
       "    </tr>\n",
       "    <tr>\n",
       "      <th>4</th>\n",
       "      <td>-122.25</td>\n",
       "      <td>37.85</td>\n",
       "      <td>52.0</td>\n",
       "      <td>1627.0</td>\n",
       "      <td>280.0</td>\n",
       "      <td>565.0</td>\n",
       "      <td>259.0</td>\n",
       "      <td>3.8462</td>\n",
       "      <td>342200.0</td>\n",
       "      <td>NEAR BAY</td>\n",
       "    </tr>\n",
       "  </tbody>\n",
       "</table>\n",
       "</div>"
      ],
      "text/plain": [
       "   longitude  latitude  housing_median_age  total_rooms  total_bedrooms  \\\n",
       "0    -122.23     37.88                41.0        880.0           129.0   \n",
       "1    -122.22     37.86                21.0       7099.0          1106.0   \n",
       "2    -122.24     37.85                52.0       1467.0           190.0   \n",
       "3    -122.25     37.85                52.0       1274.0           235.0   \n",
       "4    -122.25     37.85                52.0       1627.0           280.0   \n",
       "\n",
       "   population  households  median_income  median_house_value ocean_proximity  \n",
       "0       322.0       126.0         8.3252            452600.0        NEAR BAY  \n",
       "1      2401.0      1138.0         8.3014            358500.0        NEAR BAY  \n",
       "2       496.0       177.0         7.2574            352100.0        NEAR BAY  \n",
       "3       558.0       219.0         5.6431            341300.0        NEAR BAY  \n",
       "4       565.0       259.0         3.8462            342200.0        NEAR BAY  "
      ]
     },
     "execution_count": 14,
     "metadata": {},
     "output_type": "execute_result"
    }
   ],
   "source": [
    "data.head()"
   ]
  },
  {
   "cell_type": "markdown",
   "id": "e2eebcdd",
   "metadata": {},
   "source": [
    "# 3. Discover and Visualize the Data to Gain Insights"
   ]
  },
  {
   "cell_type": "code",
   "execution_count": 15,
   "id": "826d35ec",
   "metadata": {},
   "outputs": [],
   "source": [
    "housing = train_set.copy()"
   ]
  },
  {
   "cell_type": "markdown",
   "id": "10f88063",
   "metadata": {},
   "source": [
    "## 3.1 Visualizing Geographical Data"
   ]
  },
  {
   "cell_type": "code",
   "execution_count": 16,
   "id": "0f6421bb",
   "metadata": {},
   "outputs": [
    {
     "data": {
      "text/plain": [
       "<matplotlib.legend.Legend at 0x1dee7218d60>"
      ]
     },
     "execution_count": 16,
     "metadata": {},
     "output_type": "execute_result"
    },
    {
     "data": {
      "image/png": "[encoded data removed]",
      "text/plain": [
       "<Figure size 720x504 with 2 Axes>"
      ]
     },
     "metadata": {
      "needs_background": "light"
     },
     "output_type": "display_data"
    }
   ],
   "source": [
    "housing.plot(kind='scatter', x='longitude', y='latitude', alpha=0.4,\n",
    "            s=housing['population']/100, label='population', figsize=(10, 7),\n",
    "            c='median_house_value',\n",
    "            cmap=plt.get_cmap('jet'), colorbar=True)\n",
    "plt.legend()"
   ]
  },
  {
   "cell_type": "markdown",
   "id": "88aa06b5",
   "metadata": {},
   "source": [
    "## 3.2 Looking for Correlations"
   ]
  },
  {
   "cell_type": "code",
   "execution_count": 17,
   "id": "50e88451",
   "metadata": {},
   "outputs": [
    {
     "data": {
      "text/plain": [
       "median_house_value    1.000000\n",
       "median_income         0.686358\n",
       "total_rooms           0.134286\n",
       "housing_median_age    0.105342\n",
       "households            0.065234\n",
       "total_bedrooms        0.049844\n",
       "population           -0.025010\n",
       "longitude            -0.049219\n",
       "latitude             -0.139209\n",
       "Name: median_house_value, dtype: float64"
      ]
     },
     "execution_count": 17,
     "metadata": {},
     "output_type": "execute_result"
    }
   ],
   "source": [
    "corr_matrix = housing.corr()\n",
    "#correlation towards target feature\n",
    "corr_matrix['median_house_value'].sort_values(ascending=False)"
   ]
  },
  {
   "cell_type": "code",
   "execution_count": 18,
   "id": "aa69329e",
   "metadata": {},
   "outputs": [
    {
     "data": {
      "text/plain": [
       "<AxesSubplot:xlabel='median_income', ylabel='median_house_value'>"
      ]
     },
     "execution_count": 18,
     "metadata": {},
     "output_type": "execute_result"
    },
    {
     "data": {
      "image/png": "[encoded data removed]",
      "text/plain": [
       "<Figure size 432x288 with 1 Axes>"
      ]
     },
     "metadata": {
      "needs_background": "light"
     },
     "output_type": "display_data"
    }
   ],
   "source": [
    "#promising is 'median income'\n",
    "housing.plot(kind='scatter', x='median_income', y='median_house_value', alpha=0.1)"
   ]
  },
  {
   "cell_type": "markdown",
   "id": "53083441",
   "metadata": {},
   "source": [
    "## 3.3 Experimenting with Attribute Combinations"
   ]
  },
  {
   "cell_type": "code",
   "execution_count": 19,
   "id": "8648c664",
   "metadata": {},
   "outputs": [],
   "source": [
    "housing['rooms_per_household'] = housing['total_rooms'] / housing['households']\n",
    "housing['bedrooms_per_room'] = housing['total_bedrooms'] / housing['total_rooms']\n",
    "housing['pop_per_household'] = housing['population'] / housing['households']"
   ]
  },
  {
   "cell_type": "code",
   "execution_count": 20,
   "id": "2db63c7a",
   "metadata": {},
   "outputs": [
    {
     "data": {
      "text/plain": [
       "median_house_value     1.000000\n",
       "median_income          0.686358\n",
       "rooms_per_household    0.155572\n",
       "total_rooms            0.134286\n",
       "housing_median_age     0.105342\n",
       "households             0.065234\n",
       "total_bedrooms         0.049844\n",
       "pop_per_household     -0.022283\n",
       "population            -0.025010\n",
       "longitude             -0.049219\n",
       "latitude              -0.139209\n",
       "bedrooms_per_room     -0.259442\n",
       "Name: median_house_value, dtype: float64"
      ]
     },
     "execution_count": 20,
     "metadata": {},
     "output_type": "execute_result"
    }
   ],
   "source": [
    "corr_matrix = housing.corr()\n",
    "corr_matrix['median_house_value'].sort_values(ascending=False)"
   ]
  },
  {
   "cell_type": "markdown",
   "id": "f1b994b4",
   "metadata": {},
   "source": [
    "# 4. Prepare the Data for Machine Learning Algorithms"
   ]
  },
  {
   "cell_type": "code",
   "execution_count": 21,
   "id": "2629483f",
   "metadata": {},
   "outputs": [],
   "source": [
    "housing_features = train_set.drop('median_house_value', axis=1)\n",
    "housing_labels = train_set['median_house_value'].copy()"
   ]
  },
  {
   "cell_type": "markdown",
   "id": "93e9d448",
   "metadata": {},
   "source": [
    "## 4.1 Data Cleaning (Feature Imputation)"
   ]
  },
  {
   "cell_type": "code",
   "execution_count": 22,
   "id": "82c4fea1",
   "metadata": {},
   "outputs": [],
   "source": [
    "#option 3\n",
    "#handling missing values in 'total_bedrooms' column\n",
    "\n",
    "median = housing['total_bedrooms'].median()\n",
    "housing['total_bedrooms'].fillna(median, inplace=True)"
   ]
  },
  {
   "cell_type": "code",
   "execution_count": 23,
   "id": "8b739161",
   "metadata": {},
   "outputs": [
    {
     "name": "stdout",
     "output_type": "stream",
     "text": [
      "<class 'pandas.core.frame.DataFrame'>\n",
      "Int64Index: 16512 entries, 6279 to 15305\n",
      "Data columns (total 13 columns):\n",
      " #   Column               Non-Null Count  Dtype  \n",
      "---  ------               --------------  -----  \n",
      " 0   longitude            16511 non-null  float64\n",
      " 1   latitude             16511 non-null  float64\n",
      " 2   housing_median_age   16511 non-null  float64\n",
      " 3   total_rooms          16511 non-null  float64\n",
      " 4   total_bedrooms       16512 non-null  float64\n",
      " 5   population           16511 non-null  float64\n",
      " 6   households           16511 non-null  float64\n",
      " 7   median_income        16511 non-null  float64\n",
      " 8   median_house_value   16511 non-null  float64\n",
      " 9   ocean_proximity      16511 non-null  object \n",
      " 10  rooms_per_household  16511 non-null  float64\n",
      " 11  bedrooms_per_room    16341 non-null  float64\n",
      " 12  pop_per_household    16511 non-null  float64\n",
      "dtypes: float64(12), object(1)\n",
      "memory usage: 1.8+ MB\n"
     ]
    }
   ],
   "source": [
    "housing.info()"
   ]
  },
  {
   "cell_type": "markdown",
   "id": "1ad44581",
   "metadata": {},
   "source": [
    "## 4.2 Handling Text and Categorical Attributes"
   ]
  },
  {
   "cell_type": "code",
   "execution_count": 24,
   "id": "70da627d",
   "metadata": {},
   "outputs": [
    {
     "data": {
      "text/plain": [
       "6279     <1H OCEAN\n",
       "10019       INLAND\n",
       "3794     <1H OCEAN\n",
       "162       NEAR BAY\n",
       "7864     <1H OCEAN\n",
       "Name: ocean_proximity, dtype: object"
      ]
     },
     "execution_count": 24,
     "metadata": {},
     "output_type": "execute_result"
    }
   ],
   "source": [
    "housing_cat = housing['ocean_proximity']\n",
    "housing_cat.head()"
   ]
  },
  {
   "cell_type": "code",
   "execution_count": 25,
   "id": "101b35f0",
   "metadata": {},
   "outputs": [
    {
     "data": {
      "text/plain": [
       "array([[1., 0., 0., 0., 0., 0.],\n",
       "       [0., 1., 0., 0., 0., 0.],\n",
       "       [1., 0., 0., 0., 0., 0.],\n",
       "       ...,\n",
       "       [1., 0., 0., 0., 0., 0.],\n",
       "       [1., 0., 0., 0., 0., 0.],\n",
       "       [0., 0., 0., 0., 1., 0.]])"
      ]
     },
     "execution_count": 25,
     "metadata": {},
     "output_type": "execute_result"
    }
   ],
   "source": [
    "from sklearn.preprocessing import OneHotEncoder\n",
    "\n",
    "housing_cat = np.array(housing_cat).reshape(-1, 1)\n",
    "\n",
    "cat_encoder = OneHotEncoder()\n",
    "housing_cat_1hot = cat_encoder.fit_transform(housing_cat)\n",
    "housing_cat_1hot\n",
    "\n",
    "housing_cat_1hot.toarray()"
   ]
  },
  {
   "cell_type": "code",
   "execution_count": 26,
   "id": "5314ca5d",
   "metadata": {},
   "outputs": [
    {
     "data": {
      "text/plain": [
       "[array(['<1H OCEAN', 'INLAND', 'ISLAND', 'NEAR BAY', 'NEAR OCEAN', nan],\n",
       "       dtype=object)]"
      ]
     },
     "execution_count": 26,
     "metadata": {},
     "output_type": "execute_result"
    }
   ],
   "source": [
    "cat_encoder.categories_"
   ]
  },
  {
   "cell_type": "markdown",
   "id": "7e520697",
   "metadata": {},
   "source": [
    "## 4.3 Feature Scaling\n",
    "* Normalization (range 0-1) => MinMaxScaler\n",
    "* Standarization robust for outliers => StandardScaler"
   ]
  },
  {
   "cell_type": "markdown",
   "id": "cf7f4a3c",
   "metadata": {},
   "source": [
    "## 4.4 Transformation Pipelines"
   ]
  },
  {
   "cell_type": "markdown",
   "id": "70ce7002",
   "metadata": {},
   "source": [
    "### 4.4.1 Numerical features"
   ]
  },
  {
   "cell_type": "code",
   "execution_count": 27,
   "id": "4fbbfc9e",
   "metadata": {},
   "outputs": [],
   "source": [
    "# from sklearn.pipeline import Pipeline\n",
    "# from sklearn.preprocessing import StandardScaler\n",
    "\n",
    "# num_pipeline = Pipeline([\n",
    "#     ('std_scaler', StandarScaler())\n",
    "# ])\n",
    "\n",
    "# housing_num_tr = num_pipeline.fit_transform()"
   ]
  },
  {
   "cell_type": "markdown",
   "id": "0a952d68",
   "metadata": {},
   "source": [
    "### 4.4.2 Universal Transformer for both Numerical and Categorical features\n",
    "* You can go to Kaggle with this"
   ]
  },
  {
   "cell_type": "code",
   "execution_count": 28,
   "id": "911ce48f",
   "metadata": {},
   "outputs": [],
   "source": [
    "# from sklearn.compose import ColumnTransformer\n",
    "\n",
    "# num_features = list(housing_num)\n",
    "# cat_features = list(housing_cat)\n",
    "\n",
    "# full_pipeline = ColumnTransformer([\n",
    "#     ('num', num_pipeline, num_features)\n",
    "#     ('cat', OneHotEncoder(), cat_features)\n",
    "# ])\n",
    "\n",
    "# housing_prepared = full_pipeline.fit_transform(housing)"
   ]
  },
  {
   "cell_type": "markdown",
   "id": "82aa81e0",
   "metadata": {},
   "source": [
    "# 5. Select and Train a Model"
   ]
  },
  {
   "cell_type": "code",
   "execution_count": 29,
   "id": "b21da9b6",
   "metadata": {},
   "outputs": [
    {
     "name": "stdout",
     "output_type": "stream",
     "text": [
      "<class 'pandas.core.frame.DataFrame'>\n",
      "Int64Index: 16512 entries, 6279 to 15305\n",
      "Data columns (total 10 columns):\n",
      " #   Column              Non-Null Count  Dtype  \n",
      "---  ------              --------------  -----  \n",
      " 0   longitude           16511 non-null  float64\n",
      " 1   latitude            16511 non-null  float64\n",
      " 2   housing_median_age  16511 non-null  float64\n",
      " 3   total_rooms         16511 non-null  float64\n",
      " 4   total_bedrooms      16341 non-null  float64\n",
      " 5   population          16511 non-null  float64\n",
      " 6   households          16511 non-null  float64\n",
      " 7   median_income       16511 non-null  float64\n",
      " 8   median_house_value  16511 non-null  float64\n",
      " 9   ocean_proximity     16511 non-null  object \n",
      "dtypes: float64(9), object(1)\n",
      "memory usage: 1.4+ MB\n"
     ]
    }
   ],
   "source": [
    "train_set.info()"
   ]
  },
  {
   "cell_type": "code",
   "execution_count": 30,
   "id": "d2e7b82f",
   "metadata": {
    "scrolled": true
   },
   "outputs": [
    {
     "name": "stderr",
     "output_type": "stream",
     "text": [
      "C:\\Anaconda\\lib\\site-packages\\pandas\\core\\series.py:4463: SettingWithCopyWarning: \n",
      "A value is trying to be set on a copy of a slice from a DataFrame\n",
      "\n",
      "See the caveats in the documentation: https://pandas.pydata.org/pandas-docs/stable/user_guide/indexing.html#returning-a-view-versus-a-copy\n",
      "  return super().fillna(\n"
     ]
    }
   ],
   "source": [
    "median = train_set['total_bedrooms'].median()\n",
    "train_set['total_bedrooms'].fillna(median, inplace=True)"
   ]
  },
  {
   "cell_type": "code",
   "execution_count": 31,
   "id": "6487138b",
   "metadata": {},
   "outputs": [
    {
     "data": {
      "text/html": [
       "<div>\n",
       "<style scoped>\n",
       "    .dataframe tbody tr th:only-of-type {\n",
       "        vertical-align: middle;\n",
       "    }\n",
       "\n",
       "    .dataframe tbody tr th {\n",
       "        vertical-align: top;\n",
       "    }\n",
       "\n",
       "    .dataframe thead th {\n",
       "        text-align: right;\n",
       "    }\n",
       "</style>\n",
       "<table border=\"1\" class=\"dataframe\">\n",
       "  <thead>\n",
       "    <tr style=\"text-align: right;\">\n",
       "      <th></th>\n",
       "      <th>longitude</th>\n",
       "      <th>latitude</th>\n",
       "      <th>housing_median_age</th>\n",
       "      <th>total_rooms</th>\n",
       "      <th>total_bedrooms</th>\n",
       "      <th>population</th>\n",
       "      <th>households</th>\n",
       "      <th>median_income</th>\n",
       "      <th>median_house_value</th>\n",
       "      <th>ocean_proximity</th>\n",
       "      <th>&lt;1H OCEAN</th>\n",
       "      <th>INLAND</th>\n",
       "      <th>ISLAND</th>\n",
       "      <th>NEAR BAY</th>\n",
       "      <th>NEAR OCEAN</th>\n",
       "    </tr>\n",
       "  </thead>\n",
       "  <tbody>\n",
       "    <tr>\n",
       "      <th>6279</th>\n",
       "      <td>-117.95</td>\n",
       "      <td>34.02</td>\n",
       "      <td>22.0</td>\n",
       "      <td>1919.0</td>\n",
       "      <td>411.0</td>\n",
       "      <td>1203.0</td>\n",
       "      <td>363.0</td>\n",
       "      <td>4.2578</td>\n",
       "      <td>144100.0</td>\n",
       "      <td>&lt;1H OCEAN</td>\n",
       "      <td>1</td>\n",
       "      <td>0</td>\n",
       "      <td>0</td>\n",
       "      <td>0</td>\n",
       "      <td>0</td>\n",
       "    </tr>\n",
       "    <tr>\n",
       "      <th>10019</th>\n",
       "      <td>-121.18</td>\n",
       "      <td>39.19</td>\n",
       "      <td>16.0</td>\n",
       "      <td>1528.0</td>\n",
       "      <td>351.0</td>\n",
       "      <td>729.0</td>\n",
       "      <td>319.0</td>\n",
       "      <td>2.4688</td>\n",
       "      <td>138800.0</td>\n",
       "      <td>INLAND</td>\n",
       "      <td>0</td>\n",
       "      <td>1</td>\n",
       "      <td>0</td>\n",
       "      <td>0</td>\n",
       "      <td>0</td>\n",
       "    </tr>\n",
       "    <tr>\n",
       "      <th>3794</th>\n",
       "      <td>-118.37</td>\n",
       "      <td>34.16</td>\n",
       "      <td>40.0</td>\n",
       "      <td>1973.0</td>\n",
       "      <td>382.0</td>\n",
       "      <td>774.0</td>\n",
       "      <td>352.0</td>\n",
       "      <td>4.4122</td>\n",
       "      <td>282300.0</td>\n",
       "      <td>&lt;1H OCEAN</td>\n",
       "      <td>1</td>\n",
       "      <td>0</td>\n",
       "      <td>0</td>\n",
       "      <td>0</td>\n",
       "      <td>0</td>\n",
       "    </tr>\n",
       "    <tr>\n",
       "      <th>162</th>\n",
       "      <td>-122.24</td>\n",
       "      <td>37.81</td>\n",
       "      <td>52.0</td>\n",
       "      <td>2513.0</td>\n",
       "      <td>502.0</td>\n",
       "      <td>1048.0</td>\n",
       "      <td>518.0</td>\n",
       "      <td>3.6750</td>\n",
       "      <td>269900.0</td>\n",
       "      <td>NEAR BAY</td>\n",
       "      <td>0</td>\n",
       "      <td>0</td>\n",
       "      <td>0</td>\n",
       "      <td>1</td>\n",
       "      <td>0</td>\n",
       "    </tr>\n",
       "    <tr>\n",
       "      <th>7864</th>\n",
       "      <td>-118.12</td>\n",
       "      <td>33.89</td>\n",
       "      <td>22.0</td>\n",
       "      <td>6876.0</td>\n",
       "      <td>1960.0</td>\n",
       "      <td>5162.0</td>\n",
       "      <td>1879.0</td>\n",
       "      <td>2.9293</td>\n",
       "      <td>170800.0</td>\n",
       "      <td>&lt;1H OCEAN</td>\n",
       "      <td>1</td>\n",
       "      <td>0</td>\n",
       "      <td>0</td>\n",
       "      <td>0</td>\n",
       "      <td>0</td>\n",
       "    </tr>\n",
       "    <tr>\n",
       "      <th>...</th>\n",
       "      <td>...</td>\n",
       "      <td>...</td>\n",
       "      <td>...</td>\n",
       "      <td>...</td>\n",
       "      <td>...</td>\n",
       "      <td>...</td>\n",
       "      <td>...</td>\n",
       "      <td>...</td>\n",
       "      <td>...</td>\n",
       "      <td>...</td>\n",
       "      <td>...</td>\n",
       "      <td>...</td>\n",
       "      <td>...</td>\n",
       "      <td>...</td>\n",
       "      <td>...</td>\n",
       "    </tr>\n",
       "    <tr>\n",
       "      <th>16432</th>\n",
       "      <td>-121.23</td>\n",
       "      <td>38.12</td>\n",
       "      <td>22.0</td>\n",
       "      <td>393.0</td>\n",
       "      <td>58.0</td>\n",
       "      <td>134.0</td>\n",
       "      <td>57.0</td>\n",
       "      <td>3.9500</td>\n",
       "      <td>178100.0</td>\n",
       "      <td>INLAND</td>\n",
       "      <td>0</td>\n",
       "      <td>1</td>\n",
       "      <td>0</td>\n",
       "      <td>0</td>\n",
       "      <td>0</td>\n",
       "    </tr>\n",
       "    <tr>\n",
       "      <th>8964</th>\n",
       "      <td>-118.39</td>\n",
       "      <td>33.99</td>\n",
       "      <td>43.0</td>\n",
       "      <td>612.0</td>\n",
       "      <td>135.0</td>\n",
       "      <td>402.0</td>\n",
       "      <td>142.0</td>\n",
       "      <td>5.1322</td>\n",
       "      <td>314900.0</td>\n",
       "      <td>&lt;1H OCEAN</td>\n",
       "      <td>1</td>\n",
       "      <td>0</td>\n",
       "      <td>0</td>\n",
       "      <td>0</td>\n",
       "      <td>0</td>\n",
       "    </tr>\n",
       "    <tr>\n",
       "      <th>5944</th>\n",
       "      <td>-117.88</td>\n",
       "      <td>34.13</td>\n",
       "      <td>33.0</td>\n",
       "      <td>3713.0</td>\n",
       "      <td>718.0</td>\n",
       "      <td>2106.0</td>\n",
       "      <td>720.0</td>\n",
       "      <td>4.0023</td>\n",
       "      <td>185500.0</td>\n",
       "      <td>&lt;1H OCEAN</td>\n",
       "      <td>1</td>\n",
       "      <td>0</td>\n",
       "      <td>0</td>\n",
       "      <td>0</td>\n",
       "      <td>0</td>\n",
       "    </tr>\n",
       "    <tr>\n",
       "      <th>5327</th>\n",
       "      <td>-118.45</td>\n",
       "      <td>34.04</td>\n",
       "      <td>22.0</td>\n",
       "      <td>3319.0</td>\n",
       "      <td>1045.0</td>\n",
       "      <td>1848.0</td>\n",
       "      <td>940.0</td>\n",
       "      <td>3.6673</td>\n",
       "      <td>283300.0</td>\n",
       "      <td>&lt;1H OCEAN</td>\n",
       "      <td>1</td>\n",
       "      <td>0</td>\n",
       "      <td>0</td>\n",
       "      <td>0</td>\n",
       "      <td>0</td>\n",
       "    </tr>\n",
       "    <tr>\n",
       "      <th>15305</th>\n",
       "      <td>-117.37</td>\n",
       "      <td>33.19</td>\n",
       "      <td>23.0</td>\n",
       "      <td>4104.0</td>\n",
       "      <td>1274.0</td>\n",
       "      <td>4729.0</td>\n",
       "      <td>1187.0</td>\n",
       "      <td>1.8214</td>\n",
       "      <td>173800.0</td>\n",
       "      <td>NEAR OCEAN</td>\n",
       "      <td>0</td>\n",
       "      <td>0</td>\n",
       "      <td>0</td>\n",
       "      <td>0</td>\n",
       "      <td>1</td>\n",
       "    </tr>\n",
       "  </tbody>\n",
       "</table>\n",
       "<p>16512 rows × 15 columns</p>\n",
       "</div>"
      ],
      "text/plain": [
       "       longitude  latitude  housing_median_age  total_rooms  total_bedrooms  \\\n",
       "6279     -117.95     34.02                22.0       1919.0           411.0   \n",
       "10019    -121.18     39.19                16.0       1528.0           351.0   \n",
       "3794     -118.37     34.16                40.0       1973.0           382.0   \n",
       "162      -122.24     37.81                52.0       2513.0           502.0   \n",
       "7864     -118.12     33.89                22.0       6876.0          1960.0   \n",
       "...          ...       ...                 ...          ...             ...   \n",
       "16432    -121.23     38.12                22.0        393.0            58.0   \n",
       "8964     -118.39     33.99                43.0        612.0           135.0   \n",
       "5944     -117.88     34.13                33.0       3713.0           718.0   \n",
       "5327     -118.45     34.04                22.0       3319.0          1045.0   \n",
       "15305    -117.37     33.19                23.0       4104.0          1274.0   \n",
       "\n",
       "       population  households  median_income  median_house_value  \\\n",
       "6279       1203.0       363.0         4.2578            144100.0   \n",
       "10019       729.0       319.0         2.4688            138800.0   \n",
       "3794        774.0       352.0         4.4122            282300.0   \n",
       "162        1048.0       518.0         3.6750            269900.0   \n",
       "7864       5162.0      1879.0         2.9293            170800.0   \n",
       "...           ...         ...            ...                 ...   \n",
       "16432       134.0        57.0         3.9500            178100.0   \n",
       "8964        402.0       142.0         5.1322            314900.0   \n",
       "5944       2106.0       720.0         4.0023            185500.0   \n",
       "5327       1848.0       940.0         3.6673            283300.0   \n",
       "15305      4729.0      1187.0         1.8214            173800.0   \n",
       "\n",
       "      ocean_proximity  <1H OCEAN  INLAND  ISLAND  NEAR BAY  NEAR OCEAN  \n",
       "6279        <1H OCEAN          1       0       0         0           0  \n",
       "10019          INLAND          0       1       0         0           0  \n",
       "3794        <1H OCEAN          1       0       0         0           0  \n",
       "162          NEAR BAY          0       0       0         1           0  \n",
       "7864        <1H OCEAN          1       0       0         0           0  \n",
       "...               ...        ...     ...     ...       ...         ...  \n",
       "16432          INLAND          0       1       0         0           0  \n",
       "8964        <1H OCEAN          1       0       0         0           0  \n",
       "5944        <1H OCEAN          1       0       0         0           0  \n",
       "5327        <1H OCEAN          1       0       0         0           0  \n",
       "15305      NEAR OCEAN          0       0       0         0           1  \n",
       "\n",
       "[16512 rows x 15 columns]"
      ]
     },
     "execution_count": 31,
     "metadata": {},
     "output_type": "execute_result"
    }
   ],
   "source": [
    "dummies = pd.get_dummies(train_set['ocean_proximity'])\n",
    "dummies\n",
    "\n",
    "train_set = pd.concat([train_set, dummies], axis=1)\n",
    "train_set"
   ]
  },
  {
   "cell_type": "code",
   "execution_count": 32,
   "id": "f66e2b8c",
   "metadata": {},
   "outputs": [],
   "source": [
    "train_set.drop('ocean_proximity', axis=1, inplace=True)"
   ]
  },
  {
   "cell_type": "code",
   "execution_count": 33,
   "id": "b4bcd8a3",
   "metadata": {},
   "outputs": [
    {
     "name": "stdout",
     "output_type": "stream",
     "text": [
      "<class 'pandas.core.frame.DataFrame'>\n",
      "Int64Index: 16512 entries, 6279 to 15305\n",
      "Data columns (total 14 columns):\n",
      " #   Column              Non-Null Count  Dtype  \n",
      "---  ------              --------------  -----  \n",
      " 0   longitude           16511 non-null  float64\n",
      " 1   latitude            16511 non-null  float64\n",
      " 2   housing_median_age  16511 non-null  float64\n",
      " 3   total_rooms         16511 non-null  float64\n",
      " 4   total_bedrooms      16512 non-null  float64\n",
      " 5   population          16511 non-null  float64\n",
      " 6   households          16511 non-null  float64\n",
      " 7   median_income       16511 non-null  float64\n",
      " 8   median_house_value  16511 non-null  float64\n",
      " 9   <1H OCEAN           16512 non-null  uint8  \n",
      " 10  INLAND              16512 non-null  uint8  \n",
      " 11  ISLAND              16512 non-null  uint8  \n",
      " 12  NEAR BAY            16512 non-null  uint8  \n",
      " 13  NEAR OCEAN          16512 non-null  uint8  \n",
      "dtypes: float64(9), uint8(5)\n",
      "memory usage: 1.3 MB\n"
     ]
    }
   ],
   "source": [
    "train_set.info()"
   ]
  },
  {
   "cell_type": "code",
   "execution_count": 34,
   "id": "51c25618",
   "metadata": {},
   "outputs": [],
   "source": [
    "features = train_set.drop('median_house_value', axis=1)\n",
    "labels = train_set['median_house_value'].copy()"
   ]
  },
  {
   "cell_type": "code",
   "execution_count": 35,
   "id": "d4c97c70",
   "metadata": {},
   "outputs": [
    {
     "name": "stdout",
     "output_type": "stream",
     "text": [
      "<class 'pandas.core.frame.DataFrame'>\n",
      "Int64Index: 16512 entries, 6279 to 15305\n",
      "Data columns (total 13 columns):\n",
      " #   Column              Non-Null Count  Dtype  \n",
      "---  ------              --------------  -----  \n",
      " 0   longitude           16511 non-null  float64\n",
      " 1   latitude            16511 non-null  float64\n",
      " 2   housing_median_age  16511 non-null  float64\n",
      " 3   total_rooms         16511 non-null  float64\n",
      " 4   total_bedrooms      16512 non-null  float64\n",
      " 5   population          16511 non-null  float64\n",
      " 6   households          16511 non-null  float64\n",
      " 7   median_income       16511 non-null  float64\n",
      " 8   <1H OCEAN           16512 non-null  uint8  \n",
      " 9   INLAND              16512 non-null  uint8  \n",
      " 10  ISLAND              16512 non-null  uint8  \n",
      " 11  NEAR BAY            16512 non-null  uint8  \n",
      " 12  NEAR OCEAN          16512 non-null  uint8  \n",
      "dtypes: float64(8), uint8(5)\n",
      "memory usage: 1.2 MB\n"
     ]
    }
   ],
   "source": [
    "features.info()"
   ]
  },
  {
   "cell_type": "code",
   "execution_count": 36,
   "id": "e7397d22",
   "metadata": {
    "scrolled": true
   },
   "outputs": [
    {
     "data": {
      "text/plain": [
       "6279     144100.0\n",
       "10019    138800.0\n",
       "3794     282300.0\n",
       "162      269900.0\n",
       "7864     170800.0\n",
       "Name: median_house_value, dtype: float64"
      ]
     },
     "execution_count": 36,
     "metadata": {},
     "output_type": "execute_result"
    }
   ],
   "source": [
    "labels.head()"
   ]
  },
  {
   "cell_type": "markdown",
   "id": "dfb850ac",
   "metadata": {},
   "source": [
    "## 5.1 Training and Evaluating on the Training Set"
   ]
  },
  {
   "cell_type": "markdown",
   "id": "2b5afbc0",
   "metadata": {},
   "source": [
    "### 5.1.1 Linear Model"
   ]
  },
  {
   "cell_type": "code",
   "execution_count": 37,
   "id": "ef3e15d6",
   "metadata": {},
   "outputs": [],
   "source": [
    "#DF => NumPy array for sklearn\n",
    "features = features.values\n",
    "labels = labels.values"
   ]
  },
  {
   "cell_type": "code",
   "execution_count": null,
   "id": "4af9ee16",
   "metadata": {
    "scrolled": true
   },
   "outputs": [],
   "source": [
    "from sklearn.linear_model import LinearRegression\n",
    "\n",
    "lin_reg = LinearRegression()\n",
    "lin_reg.fit(features, labels)"
   ]
  },
  {
   "cell_type": "code",
   "execution_count": null,
   "id": "ded5565c",
   "metadata": {},
   "outputs": [],
   "source": [
    "from sklearn.metrics import mean_squared_error\n",
    "\n",
    "housing_pred = lin_reg.predict(features)\n",
    "lin_mse = mean_squared_error(housing_pred, housing_labels)\n",
    "lin_rmse = np.sqrt(lin_mse)\n",
    "lin_rmse"
   ]
  },
  {
   "cell_type": "markdown",
   "id": "6e21512d",
   "metadata": {},
   "source": [
    "### 5.1.2 Decision Tree"
   ]
  },
  {
   "cell_type": "code",
   "execution_count": null,
   "id": "6ea85fe4",
   "metadata": {},
   "outputs": [],
   "source": [
    "from sklearn.tree import DecisionTreeRegressor\n",
    "\n",
    "tree_reg = DecisionTreeRegressor()\n",
    "tree_reg.fit(features, labels)"
   ]
  },
  {
   "cell_type": "code",
   "execution_count": null,
   "id": "52b2b739",
   "metadata": {},
   "outputs": [],
   "source": [
    "housing_pred = tree_reg.predict(features)\n",
    "tree_mse = mean_squared_error(housing_pred, labels)\n",
    "tree_rmse = np.sqrt(tree_mse)\n",
    "tree_mse"
   ]
  },
  {
   "cell_type": "markdown",
   "id": "7bf0761e",
   "metadata": {},
   "source": [
    "## 5.2 Better Evaluation Using K-Fold Cross-Validation"
   ]
  },
  {
   "cell_type": "code",
   "execution_count": null,
   "id": "b98d422a",
   "metadata": {},
   "outputs": [],
   "source": [
    "#For DT\n",
    "\n",
    "from sklearn.model_selection import cross_val_score\n",
    "\n",
    "scores = cross_val_score(tree_reg, features, labels,\n",
    "                         scoring='neg_mean_squared_error', cv=10)\n",
    "# 10 validation set scores (10% of entire training set)\n",
    "tree_rmse_scores = np.sqrt(-scores)"
   ]
  },
  {
   "cell_type": "code",
   "execution_count": null,
   "id": "8b6eed4a",
   "metadata": {},
   "outputs": [],
   "source": [
    "def scores_display(scores):\n",
    "    print('Scores: ', scores)\n",
    "    print('Mean: ', scores.mean())\n",
    "    print('Standard deviation: ', scores.std())\n",
    "    \n",
    "scores_display(tree_rmse_scores)"
   ]
  },
  {
   "cell_type": "code",
   "execution_count": null,
   "id": "e68fe003",
   "metadata": {},
   "outputs": [],
   "source": [
    "#for LR\n",
    "lin_scores = cross_val_score(lin_reg, features, labels,\n",
    "                             scoring='neg_mean_squared_error', cv=10)\n",
    "lin_rmse = np.sqrt(-lin_scores)\n",
    "score_display(lin_rmse)"
   ]
  },
  {
   "cell_type": "markdown",
   "id": "9c945802",
   "metadata": {},
   "source": [
    "### 5.2.1 RandomForestRegressor"
   ]
  },
  {
   "cell_type": "code",
   "execution_count": null,
   "id": "4767e3aa",
   "metadata": {},
   "outputs": [],
   "source": [
    "from sklearn.ensemble import RandomForestRegressor\n",
    "\n",
    "forest_reg = RanomForestRegressor()\n",
    "forest_reg.fit(features, labels)\n",
    "\n",
    "forest_pred = forest_reg.predict(features)\n",
    "forest_mse = mean_squared_error(forest_pred, labels)\n",
    "forest_rmse = np.sqrt(forest_mse)\n",
    "#forest RMSE on train set (usually lower than validation set)\n",
    "forest_rmse"
   ]
  },
  {
   "cell_type": "code",
   "execution_count": null,
   "id": "8bb57f9c",
   "metadata": {},
   "outputs": [],
   "source": [
    "forest_scores = cross_val_score(forest_reg, features, labels,\n",
    "                                scoring='neg_mean_squared_error', cv=10)\n",
    "forest_rmse = np.sqrt(-forest_scores)\n",
    "\n",
    "score_display(forest_scores)"
   ]
  },
  {
   "cell_type": "markdown",
   "id": "fbeaf7e5",
   "metadata": {},
   "source": [
    "## 5.3 Saving trained models"
   ]
  },
  {
   "cell_type": "code",
   "execution_count": null,
   "id": "0c1d0fd9",
   "metadata": {},
   "outputs": [],
   "source": [
    "import joblib\n",
    "\n",
    "#saving\n",
    "joblib.dump(forest_reg, '06_forest.pkl')\n",
    "\n",
    "\n",
    "#loading\n",
    "my_forest = joblib.load('06_forest.pkl')"
   ]
  },
  {
   "cell_type": "markdown",
   "id": "6a3232cd",
   "metadata": {},
   "source": [
    "# 6. Fine-Tune Your Model"
   ]
  },
  {
   "cell_type": "markdown",
   "id": "cc8eb269",
   "metadata": {},
   "source": [
    "## 6.1 Grid Search\n",
    "* GridSearch includes a cross-validation set"
   ]
  },
  {
   "cell_type": "code",
   "execution_count": null,
   "id": "41f403bd",
   "metadata": {},
   "outputs": [],
   "source": [
    "from sklearn.model_selection import GridSearchCV\n",
    "\n",
    "param_grid = [\n",
    "    {'n_estimators': [3, 10, 30], 'max_features': [2, 4, 6, 8]},\n",
    "    {'bootstrap': False, 'n_estimators': [3, 10], 'max_features': [2, 3, 4]}\n",
    "]"
   ]
  },
  {
   "cell_type": "code",
   "execution_count": null,
   "id": "89a160db",
   "metadata": {},
   "outputs": [],
   "source": [
    "forest_reg = RandomForestRegressor()\n",
    "\n",
    "grid_search = GridSearchCV(forest_reg, param_grid, cv=5,\n",
    "                           scoring='neg_mean_squared_error',\n",
    "                           return_train_score=True)\n",
    "\n",
    "grid_search.fit(features, labels)\n",
    "# (3x4 + 2x3) x 5 = 90 models training"
   ]
  },
  {
   "cell_type": "code",
   "execution_count": null,
   "id": "6fc37f13",
   "metadata": {},
   "outputs": [],
   "source": [
    "#best parameters form the grid search\n",
    "grid_search.best_params_"
   ]
  },
  {
   "cell_type": "code",
   "execution_count": null,
   "id": "e9990c2d",
   "metadata": {},
   "outputs": [],
   "source": [
    "#alternatively\n",
    "#dict keys on param grid should be identical with model's hyperparams names\n",
    "grid_search.best_estimator_"
   ]
  },
  {
   "cell_type": "markdown",
   "id": "70906618",
   "metadata": {},
   "source": [
    "## 6.2 Randomized Search"
   ]
  },
  {
   "cell_type": "code",
   "execution_count": null,
   "id": "df5bd144",
   "metadata": {},
   "outputs": [],
   "source": [
    "random_search = RandomizedSearchCV(forest_reg, param_grid, cv=5,\n",
    "                                   scoring='neg_mean_squared_error',\n",
    "                                   return_train_score=True)"
   ]
  },
  {
   "cell_type": "markdown",
   "id": "534423b5",
   "metadata": {},
   "source": [
    "## 6.3 Ensemble Methods\n",
    "* Group of models always perform best than individual models"
   ]
  },
  {
   "cell_type": "markdown",
   "id": "2d0257eb",
   "metadata": {},
   "source": [
    "## 6.4 Analyze the Best Models and Their Errors"
   ]
  },
  {
   "cell_type": "markdown",
   "id": "b41cbd77",
   "metadata": {},
   "source": [
    "## 6.5 Evaluate Your System on the Test Set"
   ]
  },
  {
   "cell_type": "code",
   "execution_count": null,
   "id": "b45271a0",
   "metadata": {},
   "outputs": [],
   "source": [
    "final_model = grid_search.best_estimator_\n",
    "\n",
    "X_test = test_set.drop('median_house_value', axis=1)\n",
    "y_test = test_set['median_house_value'].copy()\n",
    "\n",
    "X_test_prepared = full_pipeline.transform(X_test)\n",
    "final_predictions = final_model.predict(X_test_prepared)\n",
    "\n",
    "final_mse = mean_squared_error(y_test, final_predictions)\n",
    "final_rmse = np.sqrt(final_mse)\n",
    "final_rmse\n",
    "#47,600"
   ]
  },
  {
   "cell_type": "markdown",
   "id": "d9e5f2f8",
   "metadata": {},
   "source": [
    "### TRANSFORMER"
   ]
  },
  {
   "cell_type": "code",
   "execution_count": null,
   "id": "4ea9f5ff",
   "metadata": {},
   "outputs": [],
   "source": [
    "from sklearn.compose import ColumnTransformer\n",
    "\n",
    "num_features = list(data_num)\n",
    "cat_features = ['cat_feature']\n",
    "\n",
    "full_pipeline = ColumnTransformer([\n",
    "    ('numerical', num_pipeline, num_features),\n",
    "    ('categorical', cat_pipeline, cat_features)\n",
    "])\n",
    "\n",
    "features_prepared = full_pipeline.fit_transform(features)"
   ]
  }
 ],
 "metadata": {
  "kernelspec": {
   "display_name": "Python 3",
   "language": "python",
   "name": "python3"
  },
  "language_info": {
   "codemirror_mode": {
    "name": "ipython",
    "version": 3
   },
   "file_extension": ".py",
   "mimetype": "text/x-python",
   "name": "python",
   "nbconvert_exporter": "python",
   "pygments_lexer": "ipython3",
   "version": "3.8.8"
  }
 },
 "nbformat": 4,
 "nbformat_minor": 5
}
