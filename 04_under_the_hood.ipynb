{
 "cells": [
  {
   "cell_type": "markdown",
   "id": "799ac759",
   "metadata": {},
   "source": [
    "# Under the Hood"
   ]
  },
  {
   "cell_type": "markdown",
   "id": "d1ff4aa5",
   "metadata": {},
   "source": [
    "## 1. Decision Function and Predictions\n",
    "* h = kx + b\n",
    "* threshold => h = 0\n",
    "* Support Vectors => -1 < h < 1"
   ]
  },
  {
   "cell_type": "markdown",
   "id": "29cd5d07",
   "metadata": {},
   "source": [
    "## 2. Training Objective\n",
    "* Optimization algorithm is different than GD"
   ]
  },
  {
   "cell_type": "markdown",
   "id": "d59cb603",
   "metadata": {},
   "source": [
    "## 3. Quadratic Programming\n",
    "* Hard/Soft Margin classifier solver"
   ]
  },
  {
   "cell_type": "markdown",
   "id": "fb5efafa",
   "metadata": {},
   "source": [
    "## 4. The Dual Problem"
   ]
  },
  {
   "cell_type": "markdown",
   "id": "dba09203",
   "metadata": {},
   "source": [
    "## 5. Kernelized SVMs\n",
    "* a `kernel` is a function capable of computing the dot product ϕ(a)⊺ ϕ(b) => Polynomial Kernel\n",
    "* function(a) = (f1 + f2)^2 => LinearSVC\n",
    "* Linear polynomial kernel (function(a)) is faster than nonlinear SVM kernel (Polynomial/Gaussian RBF)"
   ]
  }
 ],
 "metadata": {
  "kernelspec": {
   "display_name": "Python 3",
   "language": "python",
   "name": "python3"
  },
  "language_info": {
   "codemirror_mode": {
    "name": "ipython",
    "version": 3
   },
   "file_extension": ".py",
   "mimetype": "text/x-python",
   "name": "python",
   "nbconvert_exporter": "python",
   "pygments_lexer": "ipython3",
   "version": "3.8.8"
  }
 },
 "nbformat": 4,
 "nbformat_minor": 5
}
